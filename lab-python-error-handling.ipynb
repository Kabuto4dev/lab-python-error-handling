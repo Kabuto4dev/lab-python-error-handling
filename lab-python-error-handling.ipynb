{
 "cells": [
  {
   "cell_type": "markdown",
   "id": "25d7736c-ba17-4aff-b6bb-66eba20fbf4e",
   "metadata": {},
   "source": [
    "# Lab | Error Handling"
   ]
  },
  {
   "cell_type": "markdown",
   "id": "bc99b386-7508-47a0-bcdb-d969deaf6c8b",
   "metadata": {},
   "source": [
    "## Exercise: Error Handling for Managing Customer Orders\n",
    "\n",
    "The implementation of your code for managing customer orders assumes that the user will always enter a valid input. \n",
    "\n",
    "For example, we could modify the `initialize_inventory` function to include error handling.\n",
    "   - If the user enters an invalid quantity (e.g., a negative value or a non-numeric value), display an error message and ask them to re-enter the quantity for that product.\n",
    "   - Use a try-except block to handle the error and continue prompting the user until a valid quantity is entered.\n",
    "\n",
    "```python\n",
    "# Step 1: Define the function for initializing the inventory with error handling\n",
    "def initialize_inventory(products):\n",
    "    inventory = {}\n",
    "    for product in products:\n",
    "        valid_quantity = False\n",
    "        while not valid_quantity:\n",
    "            try:\n",
    "                quantity = int(input(f\"Enter the quantity of {product}s available: \"))\n",
    "                if quantity < 0:\n",
    "                    raise ValueError(\"Invalid quantity! Please enter a non-negative value.\")\n",
    "                valid_quantity = True\n",
    "            except ValueError as error:\n",
    "                print(f\"Error: {error}\")\n",
    "        inventory[product] = quantity\n",
    "    return inventory\n",
    "\n",
    "# Or, in another way:\n",
    "\n",
    "def initialize_inventory(products):\n",
    "    inventory = {}\n",
    "    for product in products:\n",
    "        valid_input = False\n",
    "        while not valid_input:\n",
    "            try:\n",
    "                quantity = int(input(f\"Enter the quantity of {product}s available: \"))\n",
    "                if quantity >= 0:\n",
    "                    inventory[product] = quantity\n",
    "                    valid_input = True\n",
    "                else:\n",
    "                    print(\"Quantity cannot be negative. Please enter a valid quantity.\")\n",
    "            except ValueError:\n",
    "                print(\"Invalid input. Please enter a valid quantity.\")\n",
    "    return inventory\n",
    "```\n",
    "\n",
    "Let's enhance your code by implementing error handling to handle invalid inputs.\n",
    "\n",
    "Follow the steps below to complete the exercise:\n",
    "\n",
    "2. Modify the `calculate_total_price` function to include error handling.\n",
    "   - If the user enters an invalid price (e.g., a negative value or a non-numeric value), display an error message and ask them to re-enter the price for that product.\n",
    "   - Use a try-except block to handle the error and continue prompting the user until a valid price is entered.\n",
    "\n",
    "3. Modify the `get_customer_orders` function to include error handling.\n",
    "   - If the user enters an invalid number of orders (e.g., a negative value or a non-numeric value), display an error message and ask them to re-enter the number of orders.\n",
    "   - If the user enters an invalid product name (e.g., a product name that is not in the inventory), or that doesn't have stock available, display an error message and ask them to re-enter the product name. *Hint: you will need to pass inventory as a parameter*\n",
    "   - Use a try-except block to handle the error and continue prompting the user until a valid product name is entered.\n",
    "\n",
    "4. Test your code by running the program and deliberately entering invalid quantities and product names. Make sure the error handling mechanism works as expected.\n"
   ]
  },
  {
   "cell_type": "code",
   "execution_count": 1,
   "id": "9c07d00d",
   "metadata": {},
   "outputs": [],
   "source": [
    "products = (\"t-shirt\", \"mug\", \"hat\", \"book\", \"keychain\")\n",
    "products_inv = {\"t-shirt\":0, \"mug\":0, \"hat\":0, \"book\":0, \"keychain\":0}"
   ]
  },
  {
   "cell_type": "code",
   "execution_count": 2,
   "id": "6d5d32de",
   "metadata": {},
   "outputs": [],
   "source": [
    "# Step 1: Define the function for initializing the inventory with error handling:\n",
    "\n",
    "def initialize_inventory(products):\n",
    "    inventory = {}\n",
    "    for product in products:\n",
    "        valid_quantity = False\n",
    "        while not valid_quantity:\n",
    "            try:\n",
    "                quantity = int(input(f\"Enter the quantity of {product}s available: \"))\n",
    "                if quantity < 0:\n",
    "                    raise ValueError(\"Invalid quantity! Please enter a non-negative value.\")\n",
    "                valid_quantity = True\n",
    "            except ValueError as error:\n",
    "                print(f\"Error: {error}\")\n",
    "        inventory[product] = quantity\n",
    "    return inventory"
   ]
  },
  {
   "cell_type": "code",
   "execution_count": 3,
   "id": "d4b48825",
   "metadata": {},
   "outputs": [
    {
     "name": "stdout",
     "output_type": "stream",
     "text": [
      "Enter the quantity of t-shirts available: 10\n",
      "Enter the quantity of mugs available: 20\n",
      "Enter the quantity of hats available: 30\n",
      "Enter the quantity of books available: 40\n",
      "Enter the quantity of keychains available: 50\n"
     ]
    },
    {
     "data": {
      "text/plain": [
       "{'t-shirt': 10, 'mug': 20, 'hat': 30, 'book': 40, 'keychain': 50}"
      ]
     },
     "execution_count": 3,
     "metadata": {},
     "output_type": "execute_result"
    }
   ],
   "source": [
    "initialize_inventory(products)"
   ]
  },
  {
   "cell_type": "code",
   "execution_count": 8,
   "id": "8aea7f42",
   "metadata": {},
   "outputs": [],
   "source": [
    "# 2. Modify the calculate_total_price function to include error handling.\n",
    "\n",
    "def price(products):\n",
    "    select_pr = int(input(\"Number of customer orders: \"))\n",
    "    customer_orders = {input(\"Enter the product: \") for prod in range(select_pr)}\n",
    "   \n",
    "    total_price = 0\n",
    "    for product in customer_orders:\n",
    "        valid_price = False\n",
    "        while not valid_price:\n",
    "            try:\n",
    "                prices = float(input(f\"Enter the price for {product}: \"))\n",
    "                if prices >= 0:\n",
    "                    total_price += prices\n",
    "                    valid_price = True\n",
    "                else:\n",
    "                    print(\"Price cannot be negative. Please enter a valid price.\")\n",
    "            except ValueError:\n",
    "                print(\"Invalid input. Please enter a valid price.\")\n",
    "    return total_price"
   ]
  },
  {
   "cell_type": "code",
   "execution_count": 19,
   "id": "7ed4797a",
   "metadata": {},
   "outputs": [
    {
     "name": "stdout",
     "output_type": "stream",
     "text": [
      "Number of customer orders: 2\n",
      "Enter the product: mug\n",
      "Enter the product: hat\n",
      "Enter the price for mug: 10\n",
      "Enter the price for hat: 15\n",
      "Total price: 25.0\n"
     ]
    }
   ],
   "source": [
    "total = price(products)\n",
    "print(\"Total price:\", total)"
   ]
  },
  {
   "cell_type": "code",
   "execution_count": 10,
   "id": "1318eda0",
   "metadata": {},
   "outputs": [],
   "source": [
    "# 3. Modify the get_customer_orders function to include error handling\n",
    "\n",
    "def get_customer_orders(inventory):\n",
    "    customer_orders = set()\n",
    "    \n",
    "    while True:\n",
    "        try:\n",
    "            select_pr = int(input(\"Number of customer orders: \"))\n",
    "            if select_pr <= 0:\n",
    "                raise ValueError(\"Invalid number of orders! Please enter a positive number.\")\n",
    "            \n",
    "            for _ in range(select_pr):\n",
    "                while True:\n",
    "                    product = input(\"Enter the product: \")\n",
    "                    if product not in products_inv:\n",
    "                        print(\"Invalid product! Please enter a valid product name.\")\n",
    "                        continue\n",
    "                    #elif products_inv[product] == 0:\n",
    "                     #   print(\"Out of stock! Please select another product.\")\n",
    "                      #  continue\n",
    "                    else:\n",
    "                        customer_orders.add(product)\n",
    "                        break  \n",
    "                \n",
    "            break  \n",
    "        except ValueError as error:\n",
    "            print(f\"Error: {error}\")\n",
    "\n",
    "    return customer_orders"
   ]
  },
  {
   "cell_type": "code",
   "execution_count": 13,
   "id": "0746e964",
   "metadata": {
    "scrolled": true
   },
   "outputs": [
    {
     "name": "stdout",
     "output_type": "stream",
     "text": [
      "Number of customer orders: 2\n",
      "Enter the product: mug\n",
      "Enter the product: trouser\n",
      "Invalid product! Please enter a valid product name.\n",
      "Enter the product: jean\n",
      "Invalid product! Please enter a valid product name.\n",
      "Enter the product: hat\n",
      "Customer orders: {'mug', 'hat'}\n"
     ]
    }
   ],
   "source": [
    "customer_orders = get_customer_orders(products_inv)\n",
    "print(\"Customer orders:\", customer_orders)"
   ]
  },
  {
   "cell_type": "code",
   "execution_count": 24,
   "id": "f7369b30",
   "metadata": {},
   "outputs": [
    {
     "name": "stdout",
     "output_type": "stream",
     "text": [
      "Enter the quantity of t-shirts available: ten\n",
      "Error: invalid literal for int() with base 10: 'ten'\n",
      "Enter the quantity of t-shirts available: 10\n",
      "Enter the quantity of mugs available: twenty\n",
      "Error: invalid literal for int() with base 10: 'twenty'\n",
      "Enter the quantity of mugs available: 20\n",
      "Enter the quantity of hats available: 30\n",
      "Enter the quantity of books available: 40\n",
      "Enter the quantity of keychains available: 50\n",
      "Inventory: {'t-shirt': 10, 'mug': 20, 'hat': 30, 'book': 40, 'keychain': 50}\n",
      "Number of customer orders: 2\n",
      "Enter the product: mug\n",
      "Enter the product: hat\n",
      "Enter the price for mug: ten\n",
      "Invalid input. Please enter a valid price.\n",
      "Enter the price for mug: 10\n",
      "Enter the price for hat: fifteen\n",
      "Invalid input. Please enter a valid price.\n",
      "Enter the price for hat: 15\n",
      "Total price: 25.0\n",
      "Number of customer orders: 2\n",
      "Enter the product: mug\n",
      "Enter the product: trouser\n",
      "Invalid product! Please enter a valid product name.\n",
      "Enter the product: hat\n",
      "Customer orders: {'mug', 'hat'}\n"
     ]
    }
   ],
   "source": [
    "# 4. Test code by running the program and deliberately entering invalid quantities and product names.\n",
    "\n",
    "inventory = initialize_inventory(products)\n",
    "print(\"Inventory:\", inventory)\n",
    "\n",
    "total_price = price(products)\n",
    "print(\"Total price:\", total_price)\n",
    "\n",
    "customer_orders = get_customer_orders(products_inv)\n",
    "print(\"Customer orders:\", customer_orders)"
   ]
  }
 ],
 "metadata": {
  "kernelspec": {
   "display_name": "Python 3 (ipykernel)",
   "language": "python",
   "name": "python3"
  },
  "language_info": {
   "codemirror_mode": {
    "name": "ipython",
    "version": 3
   },
   "file_extension": ".py",
   "mimetype": "text/x-python",
   "name": "python",
   "nbconvert_exporter": "python",
   "pygments_lexer": "ipython3",
   "version": "3.9.7"
  }
 },
 "nbformat": 4,
 "nbformat_minor": 5
}
